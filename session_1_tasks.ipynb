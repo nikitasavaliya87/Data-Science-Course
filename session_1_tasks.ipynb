{
  "nbformat": 4,
  "nbformat_minor": 0,
  "metadata": {
    "colab": {
      "provenance": [],
      "include_colab_link": true
    },
    "kernelspec": {
      "name": "python3",
      "display_name": "Python 3"
    },
    "language_info": {
      "name": "python"
    }
  },
  "cells": [
    {
      "cell_type": "markdown",
      "metadata": {
        "id": "view-in-github",
        "colab_type": "text"
      },
      "source": [
        "<a href=\"https://colab.research.google.com/github/nikitasavaliya87/Data-Science-Course/blob/main/session_1_tasks.ipynb\" target=\"_parent\"><img src=\"https://colab.research.google.com/assets/colab-badge.svg\" alt=\"Open In Colab\"/></a>"
      ]
    },
    {
      "cell_type": "markdown",
      "source": [
        "# Task : Session 1\n",
        "Solve these questions own your own and try to test yourself what you have learned in the session.\n",
        "\n",
        "Happy Learning!"
      ],
      "metadata": {
        "id": "A05OG15VqOPF"
      }
    },
    {
      "cell_type": "markdown",
      "source": [
        "### Q1 :- Print the given strings as per stated format.\n",
        "\n",
        "**Given strings**:\n",
        "```\n",
        "\"Data\" \"Science\" \"Mentorship\" \"Program\"\n",
        "\"By\" \"CampusX\"\n",
        "```\n",
        "**Output**:\n",
        "```\n",
        "Data-Science-Mentorship-Program-started-By-CampusX\n",
        "```\n",
        "\n",
        "Concept- [Seperator and End]"
      ],
      "metadata": {
        "id": "2doIXf8bqe9_"
      }
    },
    {
      "cell_type": "code",
      "source": [
        "\n",
        "print(\"Data\",end=\"-\")\n",
        "print(\"Science\",end=\"-\")\n",
        "print(\"Mentorship\",end=\"-\")\n",
        "print(\"Program\",end=\"-\")\n",
        "print(\"By\",end=\"-\")\n",
        "print(\"CampusX\")"
      ],
      "metadata": {
        "id": "-em6d3KErDtp",
        "colab": {
          "base_uri": "https://localhost:8080/"
        },
        "outputId": "6c69ff3d-de68-4957-9147-31612b255713"
      },
      "execution_count": 9,
      "outputs": [
        {
          "output_type": "stream",
          "name": "stdout",
          "text": [
            "Data-Science-Mentorship-Program-By-CampusX\n"
          ]
        }
      ]
    },
    {
      "cell_type": "markdown",
      "source": [
        "### Q2:- Write a program that will convert celsius value to fahrenheit."
      ],
      "metadata": {
        "id": "1KUpN7ZTrC3_"
      }
    },
    {
      "cell_type": "code",
      "source": [
        "\n",
        "# take input\n",
        "cels=float(input(\"Enter The Celsius:\"))\n",
        "#convert Celsius to Fahrenheit\n",
        "fah=(cels*1.8)+32\n",
        "#print the value\n",
        "print(\"fahrenheit\"+str(fah))"
      ],
      "metadata": {
        "id": "yxKYhYQiqWfj",
        "colab": {
          "base_uri": "https://localhost:8080/"
        },
        "outputId": "b7425977-73a8-4d55-d829-0b6e66f25a8a"
      },
      "execution_count": 10,
      "outputs": [
        {
          "output_type": "stream",
          "name": "stdout",
          "text": [
            "Enter The Celsius:32\n",
            "fahrenheit89.6\n"
          ]
        }
      ]
    },
    {
      "cell_type": "markdown",
      "source": [
        "### Q3:- Take 2 numbers as input from the user.Write a program to swap the numbers without using any special python syntax."
      ],
      "metadata": {
        "id": "RLrOBBJurLB2"
      }
    },
    {
      "cell_type": "code",
      "source": [
        "\n",
        "# Take two numbers from Users\n",
        "num1=int(input(\"Enter the First Number:\"))\n",
        "num2= int(input(\"Enter the Secound Number:\"))\n",
        "# Swapping logic\n",
        "n=num1\n",
        "num1=num2\n",
        "num2=n\n",
        "# Print the numbers\n",
        "print(\"Number1:\"+str(num1))\n",
        "print(\"Number2:\"+str(num2))"
      ],
      "metadata": {
        "id": "yPn7if0TrJ4F",
        "colab": {
          "base_uri": "https://localhost:8080/"
        },
        "outputId": "058de35a-79ab-414d-d713-7e5e86907181"
      },
      "execution_count": 11,
      "outputs": [
        {
          "output_type": "stream",
          "name": "stdout",
          "text": [
            "Enter the First Number:86\n",
            "Enter the Secound Number:2\n",
            "Number1:2\n",
            "Number2:86\n"
          ]
        }
      ]
    },
    {
      "cell_type": "markdown",
      "source": [
        "### Q4:- Write a program to find the euclidean distance between two coordinates.Take both the coordinates from the user as input."
      ],
      "metadata": {
        "id": "waLCP1bjr7ML"
      }
    },
    {
      "cell_type": "code",
      "source": [
        "\n",
        "\n",
        "#import math library\n",
        "import math\n",
        "\n",
        "# take two input from users\n",
        "x1=int(input(\"Enter the first Coordinate of x: \"))\n",
        "y1=int(input(\"Enter the first Coordinate of y: \"))\n",
        "x2= int(input(\"Enter second coordinates of x:\"))\n",
        "y2=int(input(\"Enter the secound Coordinate of y: \"))\n",
        "# find distance\n",
        "d= math.sqrt(((x2-x1)**2)+((y2-y1)**2))\n",
        "# print the distance\n",
        "print(d)"
      ],
      "metadata": {
        "id": "Pl1Sv-xnrxnH",
        "colab": {
          "base_uri": "https://localhost:8080/"
        },
        "outputId": "44cde302-c663-4831-baa0-1a963d07333c"
      },
      "execution_count": 12,
      "outputs": [
        {
          "output_type": "stream",
          "name": "stdout",
          "text": [
            "Enter the first Coordinate of x: 2\n",
            "Enter the first Coordinate of y: 3\n",
            "Enter second coordinates of x:4\n",
            "Enter the secound Coordinate of y: 6\n",
            "3.605551275463989\n"
          ]
        }
      ]
    },
    {
      "cell_type": "markdown",
      "source": [
        "### Q5:- Write a program to find the simple interest when the value of principle,rate of interest and time period is provided by the user.\n"
      ],
      "metadata": {
        "id": "VLrhg-FRsHjR"
      }
    },
    {
      "cell_type": "code",
      "source": [
        "\n",
        "# take the value from user\n",
        "p=int(input(\"enter the principle amount:\"))\n",
        "i=float(input(\"Enter the interest Rate:\"))\n",
        "t=int(input(\"Enter the time period:\"))\n",
        "\n",
        "# calculate the simple interest\n",
        "simple_interest= p*(1+(i*t))\n",
        "\n",
        "# print the value\n",
        "print(simple_interest)"
      ],
      "metadata": {
        "id": "s40DlReZsTmY",
        "colab": {
          "base_uri": "https://localhost:8080/"
        },
        "outputId": "2a9836e3-c3a2-467f-b3c0-20f3cd51f56a"
      },
      "execution_count": 13,
      "outputs": [
        {
          "output_type": "stream",
          "name": "stdout",
          "text": [
            "enter the principle amount:10000\n",
            "Enter the interest Rate:2.5\n",
            "Enter the time period:5\n",
            "135000.0\n"
          ]
        }
      ]
    },
    {
      "cell_type": "markdown",
      "source": [
        "### Q6:- Write a program that will tell the number of dogs and chicken are there when the user will provide the value of total heads and legs.\n",
        "\n",
        "For example:\n",
        "Input:\n",
        "heads -> 4\n",
        "legs -> 12\n",
        "<br>\n",
        "Output:\n",
        "dogs -> 2\n",
        "chicken -> 2\n",
        "\n",
        "\n",
        "\n"
      ],
      "metadata": {
        "id": "LMy0BTUktYKa"
      }
    },
    {
      "cell_type": "code",
      "source": [
        "\n",
        "# Write your code here\n",
        "\n",
        "heads=int(input(\"Enter the heads:\"))\n",
        "legs=int(input(\"Enter the Legs:\"))\n",
        "count = (legs) - 2 * (heads)\n",
        "count = count / 2\n",
        "print(\"Dogs ->\"+str(count))\n",
        "print(\"Chickens ->\"+ str(heads - count))"
      ],
      "metadata": {
        "id": "XSBvJoA4tXaG",
        "colab": {
          "base_uri": "https://localhost:8080/"
        },
        "outputId": "35908b5e-5563-4697-bf76-2203b5bcce5b"
      },
      "execution_count": 14,
      "outputs": [
        {
          "output_type": "stream",
          "name": "stdout",
          "text": [
            "Enter the heads:10\n",
            "Enter the Legs:30\n",
            "Dogs ->5.0\n",
            "Chickens ->5.0\n"
          ]
        }
      ]
    },
    {
      "cell_type": "markdown",
      "source": [
        "### Q7:- Write a program to find the sum of squares of first n natural numbers where n will be provided by the user."
      ],
      "metadata": {
        "id": "gJ7C5kZYt4BP"
      }
    },
    {
      "cell_type": "code",
      "source": [
        "# Take number from user\n",
        "n=int(input(\"Enter Number:\"))\n",
        "sum=0\n",
        "# sum square number logic\n",
        "for i in range(1,n+1):\n",
        "  sum=sum+(i*i)\n",
        "# print answer\n",
        "\n",
        "print(sum)"
      ],
      "metadata": {
        "id": "_tHsmEHzt2nX",
        "colab": {
          "base_uri": "https://localhost:8080/"
        },
        "outputId": "cd5ef3a6-e19b-4160-ba30-46c2432972ca"
      },
      "execution_count": 5,
      "outputs": [
        {
          "output_type": "stream",
          "name": "stdout",
          "text": [
            "Enter Number:3\n",
            "14\n"
          ]
        }
      ]
    },
    {
      "cell_type": "markdown",
      "source": [
        "### Q8:- Given the first 2 terms of an Arithmetic Series.Find the Nth term of the series. Assume all inputs are provided by the user."
      ],
      "metadata": {
        "id": "FHrMM7g-yG1h"
      }
    },
    {
      "cell_type": "code",
      "source": [
        "# take input from users\n",
        "first= int(input(\"Enter the first No:\"))\n",
        "sec= int(input(\"Enter the secound No:\"))\n",
        "n=int(input(\"Enter n:\"))\n",
        "\n",
        "d=sec-first\n",
        "ans=first+ (n-1)*d\n",
        "\n",
        "print(ans)\n",
        "\n"
      ],
      "metadata": {
        "id": "go4_kmZmyVSx",
        "colab": {
          "base_uri": "https://localhost:8080/"
        },
        "outputId": "690968c9-c38e-460b-e5c1-d66efe4831f8"
      },
      "execution_count": 6,
      "outputs": [
        {
          "output_type": "stream",
          "name": "stdout",
          "text": [
            "Enter the first No:2\n",
            "Enter the secound No:5\n",
            "Enter n:4\n",
            "11\n"
          ]
        }
      ]
    },
    {
      "cell_type": "markdown",
      "source": [
        "### Q9:- Given 2 fractions, find the sum of those 2 fractions.Take the numerator and denominator values of the fractions from the user."
      ],
      "metadata": {
        "id": "QgyRX_es1oum"
      }
    },
    {
      "cell_type": "code",
      "source": [
        "num1 = int(input('Numerator 1: '))\n",
        "dem1 = int(input('Denominator 1: '))\n",
        "num2 = int(input('Numerator 2: '))\n",
        "dem2 = int(input('Denominator 2: '))\n",
        "sum = (num1 / dem1) + (num2 / dem2)\n",
        "print(sum)"
      ],
      "metadata": {
        "id": "X05xqFS1yW16",
        "colab": {
          "base_uri": "https://localhost:8080/"
        },
        "outputId": "7f4be259-3d21-4fc0-c4b8-6cf283249e57"
      },
      "execution_count": 7,
      "outputs": [
        {
          "output_type": "stream",
          "name": "stdout",
          "text": [
            "Numerator 1: 23\n",
            "Denominator 1: 2\n",
            "Numerator 2: 1\n",
            "Denominator 2: 10\n",
            "11.6\n"
          ]
        }
      ]
    },
    {
      "cell_type": "markdown",
      "source": [
        "### Q10:- Given the height, width and breadth of a milk tank, you have to find out how many glasses of milk can be obtained? Assume all the inputs are provided by the user.\n",
        "\n",
        "\n",
        "\n",
        "Input:<br>\n",
        "Dimensions of the milk tank<br>\n",
        "H = 20cm, L = 20cm, B = 20cm\n",
        "<br><br>\n",
        "Dimensions of the glass<br>\n",
        "h = 3cm, r = 1cm"
      ],
      "metadata": {
        "id": "eaql38ln13u7"
      }
    },
    {
      "cell_type": "code",
      "source": [
        "h = int(input('Height of tank:'))\n",
        "l = int(input('Length of tank:'))\n",
        "b = int(input('Breadth of tank:'))\n",
        "h_glass = int(input('Height of glass:'))\n",
        "r = int(input('Radius of glass:'))\n",
        "\n",
        "vol = h * l * b\n",
        "vol_glass = (22/7) * (r**2) * h_glass\n",
        "\n",
        "ans = vol/ vol_glass\n",
        "print(ans)"
      ],
      "metadata": {
        "id": "FePZqno74eWv",
        "colab": {
          "base_uri": "https://localhost:8080/"
        },
        "outputId": "a17e726e-7282-482c-efca-f7e2bae2d040"
      },
      "execution_count": 8,
      "outputs": [
        {
          "output_type": "stream",
          "name": "stdout",
          "text": [
            "Height of tank:20\n",
            "Length of tank:20\n",
            "Breadth of tank:30\n",
            "Height of glass:10\n",
            "Radius of glass:20\n",
            "0.9545454545454546\n"
          ]
        }
      ]
    }
  ]
}