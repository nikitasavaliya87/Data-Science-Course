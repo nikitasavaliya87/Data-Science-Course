{
  "nbformat": 4,
  "nbformat_minor": 0,
  "metadata": {
    "colab": {
      "provenance": [],
      "include_colab_link": true
    },
    "kernelspec": {
      "name": "python3",
      "display_name": "Python 3"
    },
    "language_info": {
      "name": "python"
    }
  },
  "cells": [
    {
      "cell_type": "markdown",
      "metadata": {
        "id": "view-in-github",
        "colab_type": "text"
      },
      "source": [
        "<a href=\"https://colab.research.google.com/github/nikitasavaliya87/Data-Science-Course/blob/main/session_16_tasks.ipynb\" target=\"_parent\"><img src=\"https://colab.research.google.com/assets/colab-badge.svg\" alt=\"Open In Colab\"/></a>"
      ]
    },
    {
      "cell_type": "code",
      "execution_count": null,
      "metadata": {
        "id": "zxrbXftDYalU"
      },
      "outputs": [],
      "source": []
    },
    {
      "cell_type": "markdown",
      "source": [
        "###`Q-1:` Write a program to create an empty series."
      ],
      "metadata": {
        "id": "MetYTZJpYfdz"
      }
    },
    {
      "cell_type": "code",
      "source": [
        "import numpy as np\n",
        "import pandas as pd\n",
        "\n",
        "s=[]\n",
        "pd.Series(s)"
      ],
      "metadata": {
        "id": "KUcgT935YgC5",
        "outputId": "c1f4b1be-7f9f-4e05-ee4f-7b14425b0152",
        "colab": {
          "base_uri": "https://localhost:8080/"
        }
      },
      "execution_count": 2,
      "outputs": [
        {
          "output_type": "stream",
          "name": "stderr",
          "text": [
            "<ipython-input-2-52054c711f44>:5: FutureWarning: The default dtype for empty Series will be 'object' instead of 'float64' in a future version. Specify a dtype explicitly to silence this warning.\n",
            "  pd.Series(s)\n"
          ]
        },
        {
          "output_type": "execute_result",
          "data": {
            "text/plain": [
              "Series([], dtype: float64)"
            ]
          },
          "metadata": {},
          "execution_count": 2
        }
      ]
    },
    {
      "cell_type": "markdown",
      "source": [
        "###`Q-2:` Write a Pandas program to add, subtract, multiple and divide two Pandas Series."
      ],
      "metadata": {
        "id": "jw5ybzU6YhOo"
      }
    },
    {
      "cell_type": "code",
      "source": [
        "# code here\n",
        "a1= np.random.randint(1,100,10)\n",
        "a2= [1,1,1,1,1,1,1,1,1,1]\n",
        "\n",
        "a3= pd.Series(a1)\n",
        "a4= pd.Series(a2)\n",
        "a3"
      ],
      "metadata": {
        "id": "EF3GgVFjYjwG",
        "outputId": "7ad931ab-54f0-4485-8a24-a4ea3afcec7e",
        "colab": {
          "base_uri": "https://localhost:8080/"
        }
      },
      "execution_count": 6,
      "outputs": [
        {
          "output_type": "execute_result",
          "data": {
            "text/plain": [
              "0    51\n",
              "1    54\n",
              "2     6\n",
              "3    25\n",
              "4    47\n",
              "5    93\n",
              "6    39\n",
              "7    87\n",
              "8    37\n",
              "9    14\n",
              "dtype: int64"
            ]
          },
          "metadata": {},
          "execution_count": 6
        }
      ]
    },
    {
      "cell_type": "code",
      "source": [
        "print(a3+a4)\n",
        "print(a3-a4)\n",
        "print(a3*a4)\n",
        "print(a3/a4)\n"
      ],
      "metadata": {
        "id": "hZ5n5pHC1azG",
        "outputId": "842ac227-b0f2-4957-fbde-9d8ffe0c1597",
        "colab": {
          "base_uri": "https://localhost:8080/"
        }
      },
      "execution_count": 9,
      "outputs": [
        {
          "output_type": "stream",
          "name": "stdout",
          "text": [
            "0    52\n",
            "1    55\n",
            "2     7\n",
            "3    26\n",
            "4    48\n",
            "5    94\n",
            "6    40\n",
            "7    88\n",
            "8    38\n",
            "9    15\n",
            "dtype: int64\n",
            "0    50\n",
            "1    53\n",
            "2     5\n",
            "3    24\n",
            "4    46\n",
            "5    92\n",
            "6    38\n",
            "7    86\n",
            "8    36\n",
            "9    13\n",
            "dtype: int64\n",
            "0    51\n",
            "1    54\n",
            "2     6\n",
            "3    25\n",
            "4    47\n",
            "5    93\n",
            "6    39\n",
            "7    87\n",
            "8    37\n",
            "9    14\n",
            "dtype: int64\n",
            "0    51.0\n",
            "1    54.0\n",
            "2     6.0\n",
            "3    25.0\n",
            "4    47.0\n",
            "5    93.0\n",
            "6    39.0\n",
            "7    87.0\n",
            "8    37.0\n",
            "9    14.0\n",
            "dtype: float64\n"
          ]
        }
      ]
    },
    {
      "cell_type": "markdown",
      "source": [
        "###`Q-3` Write a Pandas program to compare the elements of the two Pandas Series.\n",
        "Sample Series: [2, 4, 6, 8, 10], [1, 3, 5, 7, 10]\n",
        "\n"
      ],
      "metadata": {
        "id": "TZDp25jeYlB6"
      }
    },
    {
      "cell_type": "code",
      "source": [
        "## code here\n",
        "a3[[2,3]]=1\n",
        "a3[a3==a4]\n",
        "print(a3==a4)\n",
        "print(a3<a4)\n",
        "print(a3>a4)"
      ],
      "metadata": {
        "id": "gFNil8ruYp1y",
        "outputId": "4fdbdaa7-4518-491f-b3e7-03272c8d79d9",
        "colab": {
          "base_uri": "https://localhost:8080/"
        }
      },
      "execution_count": 27,
      "outputs": [
        {
          "output_type": "stream",
          "name": "stdout",
          "text": [
            "0     True\n",
            "1     True\n",
            "2     True\n",
            "3     True\n",
            "4    False\n",
            "5    False\n",
            "6    False\n",
            "7    False\n",
            "8    False\n",
            "9    False\n",
            "dtype: bool\n",
            "0    False\n",
            "1    False\n",
            "2    False\n",
            "3    False\n",
            "4    False\n",
            "5    False\n",
            "6    False\n",
            "7    False\n",
            "8    False\n",
            "9    False\n",
            "dtype: bool\n",
            "0    False\n",
            "1    False\n",
            "2    False\n",
            "3    False\n",
            "4     True\n",
            "5     True\n",
            "6     True\n",
            "7     True\n",
            "8     True\n",
            "9     True\n",
            "dtype: bool\n"
          ]
        }
      ]
    },
    {
      "cell_type": "markdown",
      "source": [
        "###`Q-5.`Write a function to change the data type of given a column or a Series. Function takes series and data type as input, returns the converted series.\n",
        "```\n",
        "series = pd.Series([1,2,'Python', 2.0, True, 100])\n",
        "change to float type data\n",
        "```\n",
        "Note: Read about pd.to_numeric()"
      ],
      "metadata": {
        "id": "HlOBn_N6YrZz"
      }
    },
    {
      "cell_type": "code",
      "source": [
        "# code here\n",
        "\n",
        "def change_seriesdt(s, dt):\n",
        "  #print(dt)\n",
        "  s1=pd.to_numeric(s,errors=\"coerce\", downcast=dt)\n",
        "  return s1\n",
        "\n",
        "series = pd.Series([1,2,'Python', 2.0, True, 100])\n",
        "change_seriesdt(series, 'float')\n"
      ],
      "metadata": {
        "id": "_SWQJCUJYwXm",
        "outputId": "d0f475d1-232c-4565-9793-4c263796fb24",
        "colab": {
          "base_uri": "https://localhost:8080/"
        }
      },
      "execution_count": 26,
      "outputs": [
        {
          "output_type": "stream",
          "name": "stdout",
          "text": [
            "signed\n"
          ]
        },
        {
          "output_type": "execute_result",
          "data": {
            "text/plain": [
              "0      1.0\n",
              "1      2.0\n",
              "2      NaN\n",
              "3      2.0\n",
              "4      1.0\n",
              "5    100.0\n",
              "dtype: float64"
            ]
          },
          "metadata": {},
          "execution_count": 26
        }
      ]
    },
    {
      "cell_type": "markdown",
      "source": [
        "Download data - https://drive.google.com/file/d/1LRhXwbEodeWXtzPhJCX0X9Lf_BECzvqb/view?usp=share_link\n",
        "All Batsman runs series in IPL 2008 to 2022.\n",
        "\n",
        "Below questions are based on this data."
      ],
      "metadata": {
        "id": "PGp3OqRIY0Va"
      }
    },
    {
      "cell_type": "markdown",
      "source": [
        "###`Q-6` Find top 10 most run getter from the series."
      ],
      "metadata": {
        "id": "TxFkp-L4Y23d"
      }
    },
    {
      "cell_type": "code",
      "source": [
        "# code here\n",
        "data=pd.read_csv('/content/batsman_runs_series.csv', squeeze=True, index_col=\"batter\")\n",
        "#data\n",
        "#top10=data.sort_values(ascending=False)\n",
        "#top10=top10.head(10).copy()\n",
        "#top10\n",
        "\n",
        "data.sort_values(ascending=False).head(10)"
      ],
      "metadata": {
        "id": "muBgocA6Y2Bg",
        "outputId": "44d6463b-aab8-48a6-d7f5-fc7345e537c2",
        "colab": {
          "base_uri": "https://localhost:8080/"
        }
      },
      "execution_count": 38,
      "outputs": [
        {
          "output_type": "stream",
          "name": "stderr",
          "text": [
            "<ipython-input-38-e46ed1b0faee>:2: FutureWarning: The squeeze argument has been deprecated and will be removed in a future version. Append .squeeze(\"columns\") to the call to squeeze.\n",
            "\n",
            "\n",
            "  data=pd.read_csv('/content/batsman_runs_series.csv', squeeze=True, index_col=\"batter\")\n"
          ]
        },
        {
          "output_type": "execute_result",
          "data": {
            "text/plain": [
              "batter\n",
              "V Kohli           6634\n",
              "S Dhawan          6244\n",
              "DA Warner         5883\n",
              "RG Sharma         5881\n",
              "SK Raina          5536\n",
              "AB de Villiers    5181\n",
              "CH Gayle          4997\n",
              "MS Dhoni          4978\n",
              "RV Uthappa        4954\n",
              "KD Karthik        4377\n",
              "Name: batsman_run, dtype: int64"
            ]
          },
          "metadata": {},
          "execution_count": 38
        }
      ]
    },
    {
      "cell_type": "markdown",
      "source": [
        "###`Q-7` No of players having runs above 3000"
      ],
      "metadata": {
        "id": "GzlCFBM_Y83g"
      }
    },
    {
      "cell_type": "code",
      "source": [
        "# code here\n",
        "data[data.values>3000]"
      ],
      "metadata": {
        "id": "JdNchHRWY1B-",
        "outputId": "987c564c-d2d3-4839-aac4-ee47cd4e7275",
        "colab": {
          "base_uri": "https://localhost:8080/"
        }
      },
      "execution_count": 40,
      "outputs": [
        {
          "output_type": "execute_result",
          "data": {
            "text/plain": [
              "batter\n",
              "AB de Villiers    5181\n",
              "AM Rahane         4074\n",
              "AT Rayudu         4190\n",
              "CH Gayle          4997\n",
              "DA Warner         5883\n",
              "F du Plessis      3403\n",
              "G Gambhir         4217\n",
              "KA Pollard        3437\n",
              "KD Karthik        4377\n",
              "KL Rahul          3895\n",
              "MK Pandey         3657\n",
              "MS Dhoni          4978\n",
              "RG Sharma         5881\n",
              "RV Uthappa        4954\n",
              "S Dhawan          6244\n",
              "SK Raina          5536\n",
              "SR Watson         3880\n",
              "SV Samson         3526\n",
              "V Kohli           6634\n",
              "YK Pathan         3222\n",
              "Name: batsman_run, dtype: int64"
            ]
          },
          "metadata": {},
          "execution_count": 40
        }
      ]
    },
    {
      "cell_type": "markdown",
      "source": [
        "###`Q-8` No of players having runs above mean value?"
      ],
      "metadata": {
        "id": "pMBEoCL1Y-vh"
      }
    },
    {
      "cell_type": "code",
      "source": [
        "# code here\n",
        "data[data.values>data.mean()].count()"
      ],
      "metadata": {
        "id": "LgtViVFZZBIu",
        "outputId": "f4b22bed-5400-43b8-99eb-38d6806c6711",
        "colab": {
          "base_uri": "https://localhost:8080/"
        }
      },
      "execution_count": 48,
      "outputs": [
        {
          "output_type": "execute_result",
          "data": {
            "text/plain": [
              "128"
            ]
          },
          "metadata": {},
          "execution_count": 48
        }
      ]
    },
    {
      "cell_type": "markdown",
      "source": [
        "Download data - https://drive.google.com/file/d/1QZuZ5bypUInfVvarHACLAi8tXXHvb8xd/view?usp=share_link\n",
        "\n",
        "file name - items.csv\n",
        "\n"
      ],
      "metadata": {
        "id": "OAB1CgdgZEqE"
      }
    },
    {
      "cell_type": "markdown",
      "source": [
        "###`Q-9`\n",
        "    i. Read `items.csv` making `item_name` as index.\n",
        "    ii. Show no of nan values\n",
        "    ii. Item price is given in $, so convert it to rupees without currency symbol.\n",
        "    iii. Make data type of newly made series as float.\n",
        "    iv. Fill nan with mean of the series\n",
        "\n",
        "\n",
        "How csv file looks\n",
        "\n",
        "```\n",
        "item_name\titem_price\n",
        "Chips and Fresh Tomato Salsa\t$2.39\n",
        "Izze\t$3.39\n",
        "Nantucket Nectar\t$3.39\n",
        "Chips and Tomatillo-Green Chili Salsa\t$2.39\n",
        "Chicken Bowl\t$16.98\n",
        "\n",
        "```"
      ],
      "metadata": {
        "id": "1UTQQImxZGLu"
      }
    },
    {
      "cell_type": "code",
      "source": [
        "# code here\n",
        "\n",
        "item=pd.read_csv('/content/items.csv', index_col=\"item_name\", squeeze=True )\n"
      ],
      "metadata": {
        "id": "1xaWkoMJZFNK",
        "outputId": "54314df2-b9e5-4cce-d8ae-eaec14fdc88d",
        "colab": {
          "base_uri": "https://localhost:8080/"
        }
      },
      "execution_count": 93,
      "outputs": [
        {
          "output_type": "stream",
          "name": "stderr",
          "text": [
            "<ipython-input-93-97ed2fb9e7b5>:3: FutureWarning: The squeeze argument has been deprecated and will be removed in a future version. Append .squeeze(\"columns\") to the call to squeeze.\n",
            "\n",
            "\n",
            "  item=pd.read_csv('/content/items.csv', index_col=\"item_name\", squeeze=True )\n"
          ]
        }
      ]
    },
    {
      "cell_type": "code",
      "source": [
        "def rupees(x):\n",
        "    try:\n",
        "        y = x[1:]\n",
        "    except:\n",
        "        # Sometimes Dollar sign is not there which throws an exception\n",
        "        y = x\n",
        "    return float(y)*82.49\n",
        "\n",
        "def convert_rs(x):\n",
        "  return float(x[1:])*82.49\n",
        "item.apply(rupees)"
      ],
      "metadata": {
        "id": "RVB-xISZ-Kbk",
        "outputId": "9ed6c131-a770-4609-eeca-0753fa6cada3",
        "colab": {
          "base_uri": "https://localhost:8080/"
        }
      },
      "execution_count": 94,
      "outputs": [
        {
          "output_type": "execute_result",
          "data": {
            "text/plain": [
              "item_name\n",
              "Chips and Fresh Tomato Salsa              197.1511\n",
              "Izze                                      279.6411\n",
              "Nantucket Nectar                          279.6411\n",
              "Chips and Tomatillo-Green Chili Salsa     197.1511\n",
              "Chicken Bowl                             1400.6802\n",
              "                                           ...    \n",
              "Steak Burrito                             969.2575\n",
              "Steak Burrito                             969.2575\n",
              "Chicken Salad Bowl                        928.0125\n",
              "Chicken Salad Bowl                        721.7875\n",
              "Chicken Salad Bowl                        721.7875\n",
              "Name: item_price, Length: 4622, dtype: float64"
            ]
          },
          "metadata": {},
          "execution_count": 94
        }
      ]
    },
    {
      "cell_type": "code",
      "source": [
        "item=item.apply(rupees)\n",
        "item"
      ],
      "metadata": {
        "id": "V6hmgM-bElo7",
        "outputId": "9413a812-ea43-4f69-8a88-43b0a93a8036",
        "colab": {
          "base_uri": "https://localhost:8080/"
        }
      },
      "execution_count": 96,
      "outputs": [
        {
          "output_type": "execute_result",
          "data": {
            "text/plain": [
              "item_name\n",
              "Chips and Fresh Tomato Salsa              197.1511\n",
              "Izze                                      279.6411\n",
              "Nantucket Nectar                          279.6411\n",
              "Chips and Tomatillo-Green Chili Salsa     197.1511\n",
              "Chicken Bowl                             1400.6802\n",
              "                                           ...    \n",
              "Steak Burrito                             969.2575\n",
              "Steak Burrito                             969.2575\n",
              "Chicken Salad Bowl                        928.0125\n",
              "Chicken Salad Bowl                        721.7875\n",
              "Chicken Salad Bowl                        721.7875\n",
              "Name: item_price, Length: 4622, dtype: float64"
            ]
          },
          "metadata": {},
          "execution_count": 96
        }
      ]
    },
    {
      "cell_type": "code",
      "source": [
        "item=item.fillna(item.mean())\n",
        "item.isna().sum()"
      ],
      "metadata": {
        "id": "ahktW7ZfFRAO",
        "outputId": "c4bde41d-aa0c-4b50-b988-7aba64cd95dd",
        "colab": {
          "base_uri": "https://localhost:8080/"
        }
      },
      "execution_count": 97,
      "outputs": [
        {
          "output_type": "execute_result",
          "data": {
            "text/plain": [
              "0"
            ]
          },
          "metadata": {},
          "execution_count": 97
        }
      ]
    },
    {
      "cell_type": "markdown",
      "source": [
        "###`Q-10`:\n",
        "    i. Find mean price\n",
        "    ii. Find 30th and 6th percentile value\n",
        "    iii. Plot Histogram on price with bin size 50\n",
        "    iv. No of items price lies between [1000 to 2000]\n",
        "\n"
      ],
      "metadata": {
        "id": "UHc_4e9cZK8r"
      }
    },
    {
      "cell_type": "code",
      "source": [
        "# code here\n",
        "\n",
        "item.mean()"
      ],
      "metadata": {
        "id": "Eh3xX9FpZNmE",
        "outputId": "ee3644ed-ae8c-4f2d-e767-390ea531620b",
        "colab": {
          "base_uri": "https://localhost:8080/"
        }
      },
      "execution_count": 98,
      "outputs": [
        {
          "output_type": "execute_result",
          "data": {
            "text/plain": [
              "615.6254681102363"
            ]
          },
          "metadata": {},
          "execution_count": 98
        }
      ]
    },
    {
      "cell_type": "code",
      "source": [
        "print(item.quantile(q=.30))\n",
        "print(item.quantile(q=.06))"
      ],
      "metadata": {
        "id": "4FTqSJDeGmGs",
        "outputId": "eeee0841-0bad-4886-91c8-6d77e1c7306e",
        "colab": {
          "base_uri": "https://localhost:8080/"
        }
      },
      "execution_count": 104,
      "outputs": [
        {
          "output_type": "stream",
          "name": "stdout",
          "text": [
            "367.0805\n",
            "103.1125\n"
          ]
        }
      ]
    },
    {
      "cell_type": "code",
      "source": [
        "item.plot.hist(bins=50)"
      ],
      "metadata": {
        "id": "cmABhI-sIB5z",
        "outputId": "2e7201e1-5394-453a-806c-d7d2e18fa25c",
        "colab": {
          "base_uri": "https://localhost:8080/",
          "height": 447
        }
      },
      "execution_count": 107,
      "outputs": [
        {
          "output_type": "execute_result",
          "data": {
            "text/plain": [
              "<Axes: ylabel='Frequency'>"
            ]
          },
          "metadata": {},
          "execution_count": 107
        },
        {
          "output_type": "display_data",
          "data": {
            "text/plain": [
              "<Figure size 640x480 with 1 Axes>"
            ],
            "image/png": "[encoded data removed]"
          },
          "metadata": {}
        }
      ]
    },
    {
      "cell_type": "code",
      "source": [
        "item[(item>1000 )&(item<2000)].size"
      ],
      "metadata": {
        "id": "FfRrRZteIAuj",
        "outputId": "7409f4ad-0272-4db1-bc45-f20ca8177305",
        "colab": {
          "base_uri": "https://localhost:8080/"
        }
      },
      "execution_count": 111,
      "outputs": [
        {
          "output_type": "execute_result",
          "data": {
            "text/plain": [
              "116"
            ]
          },
          "metadata": {},
          "execution_count": 111
        }
      ]
    }
  ]
}